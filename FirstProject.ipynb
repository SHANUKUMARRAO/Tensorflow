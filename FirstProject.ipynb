{
  "nbformat": 4,
  "nbformat_minor": 0,
  "metadata": {
    "colab": {
      "name": "FirstProject.ipynb",
      "provenance": [],
      "authorship_tag": "ABX9TyN1B0zjOf4W1lBZPGt25UdL",
      "include_colab_link": true
    },
    "kernelspec": {
      "name": "python3",
      "display_name": "Python 3"
    },
    "language_info": {
      "name": "python"
    }
  },
  "cells": [
    {
      "cell_type": "markdown",
      "metadata": {
        "id": "view-in-github",
        "colab_type": "text"
      },
      "source": [
        "<a href=\"https://colab.research.google.com/github/SHANUKUMARRAO/Tensorflow/blob/main/FirstProject.ipynb\" target=\"_parent\"><img src=\"https://colab.research.google.com/assets/colab-badge.svg\" alt=\"Open In Colab\"/></a>"
      ]
    },
    {
      "cell_type": "code",
      "execution_count": 1,
      "metadata": {
        "id": "xFLJOy7frFo_"
      },
      "outputs": [],
      "source": [
        "import os\n",
        "os.environ['TF_CPP_MIN_LOG_LEVEL'] = '2'\n"
      ]
    },
    {
      "cell_type": "code",
      "source": [
        "import tensorflow as tf"
      ],
      "metadata": {
        "id": "iCa83CjPrg-s"
      },
      "execution_count": 2,
      "outputs": []
    },
    {
      "cell_type": "code",
      "source": [
        "# initialization of tensors\n",
        "x=tf.constant(5,shape=(1,1))\n",
        "y=tf.constant(4,shape=(1,1),dtype=tf.float32)\n",
        "z=tf.constant([[1,2,3],[4,5,6]])\n",
        "print(x)\n",
        "print(y)\n",
        "print(z)"
      ],
      "metadata": {
        "colab": {
          "base_uri": "https://localhost:8080/"
        },
        "id": "K7fK1ARDrn_E",
        "outputId": "1a81cbf2-5d6f-49c2-b907-dbde013a7bde"
      },
      "execution_count": 7,
      "outputs": [
        {
          "output_type": "stream",
          "name": "stdout",
          "text": [
            "tf.Tensor([[5]], shape=(1, 1), dtype=int32)\n",
            "tf.Tensor([[4.]], shape=(1, 1), dtype=float32)\n",
            "tf.Tensor(\n",
            "[[1 2 3]\n",
            " [4 5 6]], shape=(2, 3), dtype=int32)\n"
          ]
        }
      ]
    },
    {
      "cell_type": "code",
      "source": [
        "# 3 by 3 matrix\n",
        "x=tf.ones((3,3))\n",
        "# I for the identity matrix(eye)\n",
        "y=tf.eye(4) \n",
        "z=tf.random.normal((3,3),mean=0,stddev=1)\n",
        "a=tf.random.uniform((1,3),minval=1,maxval=5)\n",
        "b=tf.range(start=1,limit=10,delta=2)\n",
        "print(x)\n",
        "print(y)\n",
        "print(z)\n",
        "print(a)\n",
        "print(b)"
      ],
      "metadata": {
        "colab": {
          "base_uri": "https://localhost:8080/"
        },
        "id": "n9-_5py3rtaU",
        "outputId": "a98a34f2-87fd-4be5-dfaa-9e4199a342a8"
      },
      "execution_count": 19,
      "outputs": [
        {
          "output_type": "stream",
          "name": "stdout",
          "text": [
            "tf.Tensor(\n",
            "[[1. 1. 1.]\n",
            " [1. 1. 1.]\n",
            " [1. 1. 1.]], shape=(3, 3), dtype=float32)\n",
            "tf.Tensor(\n",
            "[[1. 0. 0. 0.]\n",
            " [0. 1. 0. 0.]\n",
            " [0. 0. 1. 0.]\n",
            " [0. 0. 0. 1.]], shape=(4, 4), dtype=float32)\n",
            "tf.Tensor(\n",
            "[[ 0.820715    1.0103209   0.11808542]\n",
            " [ 0.43743625 -0.40979058  0.20332433]\n",
            " [-0.38953018 -0.7791851   1.6917396 ]], shape=(3, 3), dtype=float32)\n",
            "tf.Tensor([[2.730774  4.6151853 3.5247726]], shape=(1, 3), dtype=float32)\n",
            "tf.Tensor([1 3 5 7 9], shape=(5,), dtype=int32)\n"
          ]
        }
      ]
    },
    {
      "cell_type": "code",
      "source": [
        "x=tf.cast(x,dtype=tf.float32)\n",
        "print(x)"
      ],
      "metadata": {
        "colab": {
          "base_uri": "https://localhost:8080/"
        },
        "id": "PT-KRYDLtzTG",
        "outputId": "d4323f24-79b5-4d18-c7c3-33fe17d0ef87"
      },
      "execution_count": 21,
      "outputs": [
        {
          "output_type": "stream",
          "name": "stdout",
          "text": [
            "tf.Tensor(\n",
            "[[1. 1. 1.]\n",
            " [1. 1. 1.]\n",
            " [1. 1. 1.]], shape=(3, 3), dtype=float32)\n"
          ]
        }
      ]
    },
    {
      "cell_type": "code",
      "source": [
        "# tf.float(13,22,334)\n",
        "# tf.int(5,3,3,3,2)\n",
        "# tf.bool(3)\n",
        "# print(x)"
      ],
      "metadata": {
        "id": "dillF0CuuH2e"
      },
      "execution_count": 26,
      "outputs": []
    },
    {
      "cell_type": "code",
      "source": [
        "\n",
        "# Initialization\n",
        "x = tf.constant(4, shape=(1, 1), dtype=tf.float32)\n",
        "print(x)\n",
        "\n",
        "x = tf.constant([[1, 2, 3], [4, 5, 6]], shape=(2, 3))\n",
        "print(x)\n",
        "\n",
        "x = tf.eye(3)\n",
        "print(x)\n",
        "\n",
        "x = tf.ones((4, 3))\n",
        "print(x)\n",
        "\n",
        "x = tf.zeros((3, 2, 5))\n",
        "print(x)\n",
        "\n",
        "x = tf.random.uniform((2, 2), minval=0, maxval=1)\n",
        "print(x)\n",
        "\n",
        "x = tf.random.normal((3, 3), mean=0, stddev=1)\n",
        "print(tf.cast(x, dtype=tf.float64))\n",
        "# tf.float (16,32,64), tf.int (8, 16, 32, 64), tf.bool\n",
        "\n",
        "x = tf.range(9)\n",
        "x = tf.range(start=0, limit=10, delta=2)\n",
        "print(x)\n",
        "\n",
        "# Math\n",
        "x = tf.constant([1, 2, 3])\n",
        "y = tf.constant([9, 8, 7])\n",
        "\n",
        "z = tf.add(x, y)\n",
        "z = x + y\n",
        "\n",
        "z = tf.subtract(x, y)\n",
        "z = x - y\n",
        "\n",
        "z = tf.divide(x, y)\n",
        "z = x / y\n",
        "\n",
        "z = tf.multiply(x, y)\n",
        "z = x * y\n",
        "\n",
        "z = tf.tensordot(x, y, axes=1)\n",
        "\n",
        "z = x ** 5\n",
        "\n",
        "x = tf.random.normal((2, 3))\n",
        "y = tf.random.normal((3, 2))\n",
        "z = tf.matmul(x, y)\n",
        "z = x @ y\n",
        "\n",
        "x = tf.random.normal((2, 2))\n",
        "\n",
        "# Indexing\n",
        "x = tf.constant([0, 1, 1, 2, 3, 1, 2, 3])\n",
        "print(x[:])\n",
        "print(x[1:])\n",
        "print(x[1:3])\n",
        "print(x[::2])\n",
        "print(x[::-1])\n",
        "\n",
        "indices = tf.constant([0, 3])\n",
        "x_indices = tf.gather(x, indices)\n",
        "\n",
        "x = tf.constant([[1, 2], [3, 4], [5, 6]])\n",
        "\n",
        "print(x[0, :])\n",
        "print(x[0:2, :])\n",
        "\n",
        "# Reshaping\n",
        "x = tf.range(9)\n",
        "\n",
        "x = tf.reshape(x, (3, 3))\n",
        "\n",
        "x = tf.transpose(x, perm=[1, 0])"
      ],
      "metadata": {
        "colab": {
          "base_uri": "https://localhost:8080/"
        },
        "id": "pGseYaD-ukzm",
        "outputId": "87d9a9b1-2e6d-4e40-9867-c965208bc310"
      },
      "execution_count": 33,
      "outputs": [
        {
          "output_type": "stream",
          "name": "stdout",
          "text": [
            "tf.Tensor([[4.]], shape=(1, 1), dtype=float32)\n",
            "tf.Tensor(\n",
            "[[1 2 3]\n",
            " [4 5 6]], shape=(2, 3), dtype=int32)\n",
            "tf.Tensor(\n",
            "[[1. 0. 0.]\n",
            " [0. 1. 0.]\n",
            " [0. 0. 1.]], shape=(3, 3), dtype=float32)\n",
            "tf.Tensor(\n",
            "[[1. 1. 1.]\n",
            " [1. 1. 1.]\n",
            " [1. 1. 1.]\n",
            " [1. 1. 1.]], shape=(4, 3), dtype=float32)\n",
            "tf.Tensor(\n",
            "[[[0. 0. 0. 0. 0.]\n",
            "  [0. 0. 0. 0. 0.]]\n",
            "\n",
            " [[0. 0. 0. 0. 0.]\n",
            "  [0. 0. 0. 0. 0.]]\n",
            "\n",
            " [[0. 0. 0. 0. 0.]\n",
            "  [0. 0. 0. 0. 0.]]], shape=(3, 2, 5), dtype=float32)\n",
            "tf.Tensor(\n",
            "[[0.15360808 0.54243004]\n",
            " [0.12106919 0.08544874]], shape=(2, 2), dtype=float32)\n",
            "tf.Tensor(\n",
            "[[-0.69647086  2.75654721 -0.39301464]\n",
            " [ 0.28979462  0.75577474  0.90152037]\n",
            " [ 1.94795358 -3.16153598 -3.73205233]], shape=(3, 3), dtype=float64)\n",
            "tf.Tensor([0 2 4 6 8], shape=(5,), dtype=int32)\n",
            "tf.Tensor([0 1 1 2 3 1 2 3], shape=(8,), dtype=int32)\n",
            "tf.Tensor([1 1 2 3 1 2 3], shape=(7,), dtype=int32)\n",
            "tf.Tensor([1 1], shape=(2,), dtype=int32)\n",
            "tf.Tensor([0 1 3 2], shape=(4,), dtype=int32)\n",
            "tf.Tensor([3 2 1 3 2 1 1 0], shape=(8,), dtype=int32)\n",
            "tf.Tensor([1 2], shape=(2,), dtype=int32)\n",
            "tf.Tensor(\n",
            "[[1 2]\n",
            " [3 4]], shape=(2, 2), dtype=int32)\n"
          ]
        }
      ]
    }
  ]
}